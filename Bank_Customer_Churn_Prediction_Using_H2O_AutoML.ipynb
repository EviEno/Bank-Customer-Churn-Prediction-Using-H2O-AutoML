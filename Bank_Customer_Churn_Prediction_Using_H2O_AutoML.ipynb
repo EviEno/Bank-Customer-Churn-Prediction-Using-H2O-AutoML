{
  "nbformat": 4,
  "nbformat_minor": 0,
  "metadata": {
    "colab": {
      "provenance": [],
      "authorship_tag": "ABX9TyP16NtmbxwkbK1xNa7jlFdz",
      "include_colab_link": true
    },
    "kernelspec": {
      "name": "python3",
      "display_name": "Python 3"
    },
    "language_info": {
      "name": "python"
    }
  },
  "cells": [
    {
      "cell_type": "markdown",
      "metadata": {
        "id": "view-in-github",
        "colab_type": "text"
      },
      "source": [
        "<a href=\"https://colab.research.google.com/github/EviEno/Bank-Customer-Churn-Prediction-Using-H2O-AutoML/blob/main/Bank_Customer_Churn_Prediction_Using_H2O_AutoML.ipynb\" target=\"_parent\"><img src=\"https://colab.research.google.com/assets/colab-badge.svg\" alt=\"Open In Colab\"/></a>"
      ]
    },
    {
      "cell_type": "code",
      "execution_count": null,
      "metadata": {
        "id": "X0Cdfna-v4nG"
      },
      "outputs": [],
      "source": []
    }
  ]
}